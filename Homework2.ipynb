{
  "nbformat": 4,
  "nbformat_minor": 0,
  "metadata": {
    "colab": {
      "name": "Homework2.ipynb",
      "provenance": [],
      "collapsed_sections": [],
      "authorship_tag": "ABX9TyMjWs68C7EOvTuCeN2y7lkw",
      "include_colab_link": true
    },
    "kernelspec": {
      "name": "python3",
      "display_name": "Python 3"
    }
  },
  "cells": [
    {
      "cell_type": "markdown",
      "metadata": {
        "id": "view-in-github",
        "colab_type": "text"
      },
      "source": [
        "<a href=\"https://colab.research.google.com/github/zeze1004/AI/blob/master/Homework2.ipynb\" target=\"_parent\"><img src=\"https://colab.research.google.com/assets/colab-badge.svg\" alt=\"Open In Colab\"/></a>"
      ]
    },
    {
      "cell_type": "code",
      "metadata": {
        "id": "wFfRD_41uYaA",
        "colab": {
          "base_uri": "https://localhost:8080/"
        },
        "outputId": "a2ddd437-759a-4a94-8bbf-5101cca1aae3"
      },
      "source": [
        "%matplotlib inline\n",
        "import numpy as np\n",
        "import pandas as pd\n",
        "import csv\n",
        "import torch\n",
        "import torch.optim as optim\n",
        "import csv\n",
        "import torch.nn as nn\n",
        "\n",
        "wine_path = \"https://raw.githubusercontent.com/deep-learning-with-pytorch/dlwpt-code/master/data/p1ch4/tabular-wine/winequality-white.csv\"\n",
        "#wine_path = \"../data/p1ch4/tabular-wine/winequality-white.csv\"\n",
        "wineq_numpy = np.loadtxt(wine_path, dtype = np.float32, delimiter = \";\", skiprows = 1)\n",
        "wine_data = pd.read_csv(wine_path, delimiter=';')\n",
        "wineq_numpy\n",
        "\n",
        "wineq = torch.from_numpy(wineq_numpy)\n",
        "wineq.shape # columns and rows\n",
        "wineq.dtype\n",
        "\n",
        "wineq_numpy.shape"
      ],
      "execution_count": 103,
      "outputs": [
        {
          "output_type": "execute_result",
          "data": {
            "text/plain": [
              "(4898, 12)"
            ]
          },
          "metadata": {
            "tags": []
          },
          "execution_count": 103
        }
      ]
    },
    {
      "cell_type": "markdown",
      "metadata": {
        "id": "pHZh7xHR1zy4"
      },
      "source": [
        "**와인의 qulity 데이터를 포함해 qulity를 결정하는 12개의 데이터를 입력 받았다.**"
      ]
    },
    {
      "cell_type": "code",
      "metadata": {
        "colab": {
          "base_uri": "https://localhost:8080/"
        },
        "id": "FUac-bbx0emR",
        "outputId": "46ef713d-1413-413b-f964-0c5798836d20"
      },
      "source": [
        "# quality data를 target으로 설정\n",
        "target = wineq[:, -1].long()\n",
        "target"
      ],
      "execution_count": 100,
      "outputs": [
        {
          "output_type": "execute_result",
          "data": {
            "text/plain": [
              "tensor([6, 6, 6,  ..., 6, 7, 6])"
            ]
          },
          "metadata": {
            "tags": []
          },
          "execution_count": 100
        }
      ]
    },
    {
      "cell_type": "code",
      "metadata": {
        "colab": {
          "base_uri": "https://localhost:8080/"
        },
        "id": "5eR7RcpD0eYY",
        "outputId": "e26272bc-9d15-4eee-d004-296c0a37cbfc"
      },
      "source": [
        "# wineq에서 quality열 제거\n",
        "data = wineq[:, :-1] \n",
        "data.shape"
      ],
      "execution_count": 102,
      "outputs": [
        {
          "output_type": "execute_result",
          "data": {
            "text/plain": [
              "torch.Size([4898, 11])"
            ]
          },
          "metadata": {
            "tags": []
          },
          "execution_count": 102
        }
      ]
    },
    {
      "cell_type": "markdown",
      "metadata": {
        "id": "PaT_0NdY1rry"
      },
      "source": [
        "**와인 데이터에서 qulity를 제외해 12열에서 11열으로 줄은 것을 확인할 수 있다.**"
      ]
    },
    {
      "cell_type": "code",
      "metadata": {
        "colab": {
          "base_uri": "https://localhost:8080/"
        },
        "id": "bds9gNmI0eOT",
        "outputId": "033b05a6-f8a9-4332-b088-69f360c46f11"
      },
      "source": [
        "# target을 onehot vector로 만듦\n",
        "onehot_target = torch.zeros(target.shape[0],10)\n",
        "onehot_target.scatter_(1, target.unsqueeze(1),1.0)\n",
        "target = onehot_target\n",
        "target"
      ],
      "execution_count": 12,
      "outputs": [
        {
          "output_type": "execute_result",
          "data": {
            "text/plain": [
              "tensor([[0., 0., 0.,  ..., 0., 0., 0.],\n",
              "        [0., 0., 0.,  ..., 0., 0., 0.],\n",
              "        [0., 0., 0.,  ..., 0., 0., 0.],\n",
              "        ...,\n",
              "        [0., 0., 0.,  ..., 0., 0., 0.],\n",
              "        [0., 0., 0.,  ..., 1., 0., 0.],\n",
              "        [0., 0., 0.,  ..., 0., 0., 0.]])"
            ]
          },
          "metadata": {
            "tags": []
          },
          "execution_count": 12
        }
      ]
    },
    {
      "cell_type": "code",
      "metadata": {
        "id": "axZaL5_t0eBj"
      },
      "source": [
        "n_samples = data.shape[0]\n",
        "n_samples\n",
        "# validation data \n",
        "n_val = int(0.2 * n_samples)"
      ],
      "execution_count": 13,
      "outputs": []
    },
    {
      "cell_type": "markdown",
      "metadata": {
        "id": "7NfAKC552lGa"
      },
      "source": [
        "**직전 과제를 참고해 전체 데이터의 20%는 validation data로 설정했다.**"
      ]
    },
    {
      "cell_type": "code",
      "metadata": {
        "colab": {
          "base_uri": "https://localhost:8080/"
        },
        "id": "QWb8oFcN0dz1",
        "outputId": "bf720da9-66e3-476e-c147-eac3a58417d9"
      },
      "source": [
        "shuffled_indices = torch.randperm(n_samples)\n",
        "shuffled_indices"
      ],
      "execution_count": 16,
      "outputs": [
        {
          "output_type": "execute_result",
          "data": {
            "text/plain": [
              "tensor([ 477, 3567, 4600,  ..., 4366,  657, 1734])"
            ]
          },
          "metadata": {
            "tags": []
          },
          "execution_count": 16
        }
      ]
    },
    {
      "cell_type": "code",
      "metadata": {
        "id": "0Eb_sP5k1-_K"
      },
      "source": [
        "# training data, validation data 분리\n",
        "train_indices = shuffled_indices[:-n_val]\n",
        "val_indices = shuffled_indices[-n_val:]\n",
        "\n",
        "target_t = target[train_indices]\n",
        "data_t = data[train_indices]\n",
        "target_v = target[val_indices]\n",
        "data_v = data[val_indices]\n"
      ],
      "execution_count": 105,
      "outputs": []
    },
    {
      "cell_type": "code",
      "metadata": {
        "colab": {
          "base_uri": "https://localhost:8080/"
        },
        "id": "ZCQtLJVv1-0y",
        "outputId": "e50cf721-acd6-4095-a11d-d9bba1d5a14d"
      },
      "source": [
        "# optimazer = SGD\n",
        "# ---------------\n",
        "loss_val_data = [] # validation data의 loss 값을 저장하는 리스트\n",
        "loss_train_data = [] # train data의 loss 값을 저장하는 리스트\n",
        "\n",
        "# 트레이닝 루프\n",
        "import torch.nn as nn\n",
        "def training_loop(n_epochs, optimizer, model, loss_fn, data_t, data_v,\n",
        "                  target_t, target_v):\n",
        "    for epoch in range(1, n_epochs + 1):\n",
        "        t_p_train = model(data_train) # <1>\n",
        "        loss_train = loss_fn(t_p_train, target_train)\n",
        "        t_p_val = model(data_val) \n",
        "        loss_val = loss_fn(t_p_val, target_val)\n",
        "        optimizer.zero_grad()\n",
        "        loss_train.backward()\n",
        "        optimizer.step()\n",
        "        loss_val_data.append(loss_val.item())\n",
        "        loss_train_data.append(loss_train.item())\n",
        "        if epoch == 1 or epoch % 1000 == 0:\n",
        "          print(f\"Epoch {epoch}, Training loss {loss_train.item():.4f},\"\n",
        "                  f\" Validation loss {loss_val.item():.4f}\")\n",
        "\n",
        "linear_model = nn.Linear(11, 10)\n",
        "learning_rate = 1e-4\n",
        "optimizer = optim.SGD(linear_model.parameters(), lr=learning_rate)\n",
        "\n",
        "training_loop(\n",
        "    n_epochs = 10000, \n",
        "    optimizer = optimizer,\n",
        "    model = linear_model,\n",
        "    loss_fn = nn.MSELoss(), \n",
        "    data_t = data_t,\n",
        "    data_v = data_v, \n",
        "    target_t = target_t,\n",
        "    target_v = target_v)\n"
      ],
      "execution_count": 128,
      "outputs": [
        {
          "output_type": "stream",
          "text": [
            "Epoch 1, Training loss 437.2275, Validation loss 428.2941\n",
            "Epoch 1000, Training loss 0.5319, Validation loss 0.5367\n",
            "Epoch 2000, Training loss 0.2818, Validation loss 0.2822\n",
            "Epoch 3000, Training loss 0.1735, Validation loss 0.1724\n",
            "Epoch 4000, Training loss 0.1249, Validation loss 0.1235\n",
            "Epoch 5000, Training loss 0.1027, Validation loss 0.1014\n",
            "Epoch 6000, Training loss 0.0924, Validation loss 0.0912\n",
            "Epoch 7000, Training loss 0.0875, Validation loss 0.0863\n",
            "Epoch 8000, Training loss 0.0849, Validation loss 0.0839\n",
            "Epoch 9000, Training loss 0.0835, Validation loss 0.0825\n",
            "Epoch 10000, Training loss 0.0826, Validation loss 0.0816\n"
          ],
          "name": "stdout"
        }
      ]
    },
    {
      "cell_type": "markdown",
      "metadata": {
        "id": "-4Sw5Xfa4rkc"
      },
      "source": [
        "**optimazer로 SGD를 선택하여 학습시켰다. 과적합이 일어나지 않게끔 학습률을 조정하며 결과를 냈다.**\n",
        "**아래는 Adam을 이용해 학습을 시켰다. 성능 비교를 위해 epoch와 학습률을 동일하게 설정했다.**"
      ]
    },
    {
      "cell_type": "code",
      "metadata": {
        "colab": {
          "base_uri": "https://localhost:8080/"
        },
        "id": "fQqQMZtoyOAg",
        "outputId": "52806d10-e096-4151-950d-3356d0a71377"
      },
      "source": [
        "# optimazer = Adam\n",
        "# ---------------\n",
        "loss_val_data = [] # validation data의 loss 값을 저장하는 리스트\n",
        "loss_train_data = [] # train data의 loss 값을 저장하는 리스트\n",
        "\n",
        "# 트레이닝 루프\n",
        "import torch.nn as nn\n",
        "def training_loop(n_epochs, optimizer, model, loss_fn, data_t, data_v,\n",
        "                  target_t, target_v):\n",
        "    for epoch in range(1, n_epochs + 1):\n",
        "        t_p_train = model(data_train) # <1>\n",
        "        loss_train = loss_fn(t_p_train, target_train)\n",
        "        t_p_val = model(data_val) \n",
        "        loss_val = loss_fn(t_p_val, target_val)\n",
        "        optimizer.zero_grad()\n",
        "        loss_train.backward()\n",
        "        optimizer.step()\n",
        "        loss_val_data.append(loss_val.item())\n",
        "        loss_train_data.append(loss_train.item())\n",
        "        if epoch == 1 or epoch % 1000 == 0:\n",
        "          print(f\"Epoch {epoch}, Training loss {loss_train.item():.4f},\"\n",
        "                  f\" Validation loss {loss_val.item():.4f}\")\n",
        "\n",
        "linear_model = nn.Linear(11, 10)\n",
        "learning_rate = 1e-4\n",
        "optimizer = optim.Adam(linear_model.parameters(), lr=learning_rate)\n",
        "\n",
        "training_loop(\n",
        "    n_epochs = 10000, \n",
        "    optimizer = optimizer,\n",
        "    model = linear_model,\n",
        "    loss_fn = nn.MSELoss(), \n",
        "    data_t = data_t,\n",
        "    data_v = data_v, \n",
        "    target_t = target_t,\n",
        "    target_v = target_v)\n"
      ],
      "execution_count": 165,
      "outputs": [
        {
          "output_type": "stream",
          "text": [
            "Epoch 1, Training loss 670.0908, Validation loss 657.4225\n",
            "Epoch 1000, Training loss 186.8427, Validation loss 183.0263\n",
            "Epoch 2000, Training loss 41.3442, Validation loss 40.4116\n",
            "Epoch 3000, Training loss 7.2349, Validation loss 7.0126\n",
            "Epoch 4000, Training loss 2.9148, Validation loss 2.8245\n",
            "Epoch 5000, Training loss 2.1080, Validation loss 2.0695\n",
            "Epoch 6000, Training loss 1.5600, Validation loss 1.5480\n",
            "Epoch 7000, Training loss 1.1497, Validation loss 1.1470\n",
            "Epoch 8000, Training loss 0.8149, Validation loss 0.8143\n",
            "Epoch 9000, Training loss 0.5278, Validation loss 0.5276\n",
            "Epoch 10000, Training loss 0.3038, Validation loss 0.3033\n"
          ],
          "name": "stdout"
        }
      ]
    },
    {
      "cell_type": "code",
      "metadata": {
        "colab": {
          "base_uri": "https://localhost:8080/",
          "height": 295
        },
        "id": "xPfS2ACdslYe",
        "outputId": "87f89f2d-43ce-4189-e989-cf811e266d86"
      },
      "source": [
        "# optimazer 'Adam' 사용시\n",
        "# epoch에 따른 train data training loss 그래프\n",
        "from matplotlib import pyplot as plt\n",
        "import numpy as np\n",
        "n_epochs = 10000\n",
        "plt.title('train_loss vs. No. of epochs');\n",
        "x = range(n_epochs)\n",
        "y = loss_train_data\n",
        "plt.xlabel('epoch')\n",
        "plt.ylabel('val_loss')\n",
        "plt.xlim(5000,10000) # y축 범위\n",
        "plt.ylim(0,2) # y축 범위\n",
        "plt.plot(x,y)\n",
        "plt.show()"
      ],
      "execution_count": 169,
      "outputs": [
        {
          "output_type": "display_data",
          "data": {
            "image/png": "[encoded data removed]",
            "text/plain": [
              "<Figure size 432x288 with 1 Axes>"
            ]
          },
          "metadata": {
            "tags": [],
            "needs_background": "light"
          }
        }
      ]
    },
    {
      "cell_type": "code",
      "metadata": {
        "colab": {
          "base_uri": "https://localhost:8080/",
          "height": 295
        },
        "id": "mJzANl4Mr4Jy",
        "outputId": "0bd296e3-5706-4124-d232-1af64ec4f6a4"
      },
      "source": [
        "# epoch에 따른 validation data training loss 그래프\n",
        "from matplotlib import pyplot as plt\n",
        "import numpy as np\n",
        "plt.title('val_loss vs. No. of epochs');\n",
        "x = range(n_epochs)\n",
        "y = loss_val_data\n",
        "plt.xlabel('epoch')\n",
        "plt.ylabel('val_loss')\n",
        "plt.xlim(5000,10000) # y축 범위\n",
        "plt.ylim(0,2) # y축 범위\n",
        "plt.plot(x,y)\n",
        "plt.show()"
      ],
      "execution_count": 168,
      "outputs": [
        {
          "output_type": "display_data",
          "data": {
            "image/png": "[encoded data removed]",
            "text/plain": [
              "<Figure size 432x288 with 1 Axes>"
            ]
          },
          "metadata": {
            "tags": [],
            "needs_background": "light"
          }
        }
      ]
    },
    {
      "cell_type": "markdown",
      "metadata": {
        "id": "bKD43NUr5ceL"
      },
      "source": [
        "**Adam 결과를 먼저 살펴보자.**\n",
        "**많은 데이터가 아님에도 Adam은 SGD보다 출력 속도가 늦었다. 뿐만 아니라 loss도 SGD보다 높게 출력 되었다. 학습률을 더 높이면 속도를 향상시킬 수 있으며 loss도 낮게 나온다. 그러나 같은 조건이라면 간단한 데이터에서는 SGD가 더 높은 성능을 보임을 알 수 있었다.**"
      ]
    },
    {
      "cell_type": "markdown",
      "metadata": {
        "id": "tMTEOAhn6LJZ"
      },
      "source": [
        "**아래 SGD 그래프를 통해 성능을 확인할 수 있다.**"
      ]
    },
    {
      "cell_type": "code",
      "metadata": {
        "colab": {
          "base_uri": "https://localhost:8080/",
          "height": 295
        },
        "id": "HjDe65z-0jIq",
        "outputId": "cd10b38b-1fa4-48ed-bbbb-79aab0b4d9da"
      },
      "source": [
        "# optimazer 'SGD' 사용시\n",
        "# epoch에 따른 train data training loss 그래프\n",
        "from matplotlib import pyplot as plt\n",
        "import numpy as np\n",
        "n_epochs = 10000\n",
        "plt.title('train_loss vs. No. of epochs');\n",
        "x = range(n_epochs)\n",
        "y = loss_train_data\n",
        "plt.xlabel('epoch')\n",
        "plt.ylabel('val_loss')\n",
        "plt.xlim(5000,10000) # X축 범위\n",
        "plt.ylim(0.08,0.1) # y축 범위\n",
        "plt.plot(x,y)\n",
        "plt.show()"
      ],
      "execution_count": 157,
      "outputs": [
        {
          "output_type": "display_data",
          "data": {
            "image/png": "[encoded data removed]",
            "text/plain": [
              "<Figure size 432x288 with 1 Axes>"
            ]
          },
          "metadata": {
            "tags": [],
            "needs_background": "light"
          }
        }
      ]
    },
    {
      "cell_type": "code",
      "metadata": {
        "colab": {
          "base_uri": "https://localhost:8080/",
          "height": 295
        },
        "id": "USj_OcN50jnQ",
        "outputId": "66ef728f-0bbb-4596-c534-d9df80adfcbf"
      },
      "source": [
        "# epoch에 따른 validation data training loss 그래프\n",
        "from matplotlib import pyplot as plt\n",
        "import numpy as np\n",
        "plt.title('val_loss vs. No. of epochs');\n",
        "x = range(n_epochs)\n",
        "y = loss_val_data\n",
        "plt.xlabel('epoch')\n",
        "plt.ylabel('val_loss')\n",
        "plt.xlim(5000,10000) # X축 범위\n",
        "plt.ylim(0.08,0.1) # y축 범위\n",
        "plt.plot(x,y)\n",
        "plt.show()"
      ],
      "execution_count": 159,
      "outputs": [
        {
          "output_type": "display_data",
          "data": {
            "image/png": "[encoded data removed]",
            "text/plain": [
              "<Figure size 432x288 with 1 Axes>"
            ]
          },
          "metadata": {
            "tags": [],
            "needs_background": "light"
          }
        }
      ]
    }
  ]
}